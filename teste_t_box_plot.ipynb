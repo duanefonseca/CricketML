{
  "nbformat": 4,
  "nbformat_minor": 0,
  "metadata": {
    "colab": {
      "provenance": [],
      "mount_file_id": "1DB6Qo8MxEACgnVgGoV-OWwH18BHe_feL",
      "authorship_tag": "ABX9TyNIooNQX6XkUi6MDEHn3qO1",
      "include_colab_link": true
    },
    "kernelspec": {
      "name": "python3",
      "display_name": "Python 3"
    },
    "language_info": {
      "name": "python"
    }
  },
  "cells": [
    {
      "cell_type": "markdown",
      "metadata": {
        "id": "view-in-github",
        "colab_type": "text"
      },
      "source": [
        "<a href=\"https://colab.research.google.com/github/duanefonseca/CricketML/blob/main/teste_t_box_plot.ipynb\" target=\"_parent\"><img src=\"https://colab.research.google.com/assets/colab-badge.svg\" alt=\"Open In Colab\"/></a>"
      ]
    },
    {
      "cell_type": "code",
      "source": [
        "import pandas as pd\n",
        "from scipy.stats import ttest_ind\n",
        "\n",
        "# Load data from CSV\n",
        "#df = pd.read_csv('/content/drive/MyDrive/arquivos_dados_colab/teste_t_box_plot/t_test.csv')\n",
        "df = pd.read_csv('/content/t-test.csv')\n",
        "# Get the column names\n",
        "col1_name = df.columns[0]\n",
        "col2_name = df.columns[1]\n",
        "\n",
        "# Drop rows with nan values from the specified columns\n",
        "grupo1 = df[col1_name].dropna().tolist()\n",
        "grupo2 = df[col2_name].dropna().tolist()\n",
        "\n",
        "# Calculating the means\n",
        "media_grupo1 = sum(grupo1) / len(grupo1)\n",
        "media_grupo2 = sum(grupo2) / len(grupo2)\n",
        "\n",
        "print(f\"Média do {col1_name}: {media_grupo1:.2f}\")\n",
        "print(f\"Média do {col2_name}: {media_grupo2:.2f}\")\n",
        "\n",
        "# Performing the t-test\n",
        "t_stat, p_valor = ttest_ind(grupo1, grupo2)\n",
        "\n",
        "print(f\"Valor de t: {t_stat:.2f}\")\n",
        "print(f\"Valor de p: {p_valor:.4f}\")\n",
        "\n",
        "if p_valor < 0.05:\n",
        "    print(\"Há uma diferença significativa entre as médias dos dois grupos.\")\n",
        "else:\n",
        "    print(\"Não há uma diferença significativa entre as médias dos dois grupos.\")\n"
      ],
      "metadata": {
        "colab": {
          "base_uri": "https://localhost:8080/"
        },
        "id": "zFJTrKcNG5d-",
        "outputId": "9bd2a6eb-d7c9-4ab7-cc3e-ad6919060d8b"
      },
      "execution_count": null,
      "outputs": [
        {
          "output_type": "stream",
          "name": "stdout",
          "text": [
            "Média do CRT: 1.04\n",
            "Média do TRAT: 1.07\n",
            "Valor de t: -0.26\n",
            "Valor de p: 0.8086\n",
            "Não há uma diferença significativa entre as médias dos dois grupos.\n"
          ]
        }
      ]
    },
    {
      "cell_type": "code",
      "source": [
        "import pandas as pd\n",
        "import matplotlib.pyplot as plt\n",
        "import seaborn as sns\n",
        "\n",
        "# Load data from CSV\n",
        "#df = pd.read_csv('/content/drive/MyDrive/arquivos_dados_colab/teste_t_box_plot/t_test.csv')\n",
        "df = pd.read_csv('/content/t-test.csv')\n",
        "\n",
        "# Get the column names\n",
        "col1_name = df.columns[0]\n",
        "col2_name = df.columns[1]\n",
        "\n",
        "# Drop rows with nan values from the specified columns\n",
        "grupo1 = df[col1_name].dropna().tolist()\n",
        "grupo2 = df[col2_name].dropna().tolist()\n",
        "\n",
        "\n",
        "# Drop rows with nan values in specific columns\n",
        "grupo1 = df[col1_name].dropna().tolist()\n",
        "grupo2 = df[col2_name].dropna().tolist()\n",
        "\n",
        "# Creating a boxplot\n",
        "sns.boxplot(data=[grupo1, grupo2])\n",
        "plt.xticks([0, 1], ['Grupo A', 'Grupo B'])\n",
        "#plt.title('Boxplot dos Grupos')\n",
        "plt.ylabel('Peso médio (g)')\n",
        "\n",
        "# Setting the y-axis to start at zero\n",
        "#- AQUI ALTERA O EIXO Y plt.ylim(6, max(max(grupo1), max(grupo2)) + 2)\n",
        "plt.ylim(0.69, max(max(grupo1), max(grupo2)) + 0.4)\n",
        "\n",
        "plt.show()\n"
      ],
      "metadata": {
        "colab": {
          "base_uri": "https://localhost:8080/",
          "height": 430
        },
        "id": "_lD-Vh5yD40V",
        "outputId": "33a3d2b5-6081-44ac-bf64-4ffd21e1815f"
      },
      "execution_count": null,
      "outputs": [
        {
          "output_type": "display_data",
          "data": {
            "text/plain": [
              "<Figure size 640x480 with 1 Axes>"
            ],
            "image/png": "[encoded data removed]"
          },
          "metadata": {}
        }
      ]
    }
  ]
}