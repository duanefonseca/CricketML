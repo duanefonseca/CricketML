{
  "nbformat": 4,
  "nbformat_minor": 0,
  "metadata": {
    "colab": {
      "provenance": [],
      "mount_file_id": "1GRWrPLWtS3L2cINaZRtub2dWEtqskmbn",
      "authorship_tag": "ABX9TyMZEDJOYmW87EJFF8M5m/zf",
      "include_colab_link": true
    },
    "kernelspec": {
      "name": "python3",
      "display_name": "Python 3"
    },
    "language_info": {
      "name": "python"
    }
  },
  "cells": [
    {
      "cell_type": "markdown",
      "metadata": {
        "id": "view-in-github",
        "colab_type": "text"
      },
      "source": [
        "<a href=\"https://colab.research.google.com/github/duanefonseca/CricketML/blob/main/ajuste_polinomio.ipynb\" target=\"_parent\"><img src=\"https://colab.research.google.com/assets/colab-badge.svg\" alt=\"Open In Colab\"/></a>"
      ]
    },
    {
      "cell_type": "markdown",
      "source": [
        "## Ajuste de uma funcão polinomial. Usuário escolhe o grau da função.\n",
        "\n",
        "## Por exemplo, grau = 0 significa a equação y=A.\n",
        "## Grau = 1, y=A + BX\n",
        "## Grau = 2, y=A + BX + CX^2\n",
        "... e assim por diante.\n",
        "##Subsitutua o filepath pelo caminho onde se encontra o seu arquivo.\n",
        "\n"
      ],
      "metadata": {
        "id": "6Vms5zjHVUaK"
      }
    },
    {
      "cell_type": "code",
      "execution_count": 10,
      "metadata": {
        "colab": {
          "base_uri": "https://localhost:8080/",
          "height": 748
        },
        "id": "o40yqs9JVNjx",
        "outputId": "c527ed12-b1f5-4225-f319-d5b58371ff8b"
      },
      "outputs": [
        {
          "output_type": "stream",
          "name": "stdout",
          "text": [
            "Coeficientes do modelo:\n",
            "[ 0.71573325 -8.16846047 45.0853443 ]\n",
            "Equação do polinômio:\n",
            "\n",
            "        2\n",
            "0.7157 x - 8.168 x + 45.09\n",
            "Média dos valores de x: 6.71\n",
            "Média dos valores de y: 23.43\n",
            "Coeficiente de determinação, R²:  0.28\n",
            "Soma do quadrado dos resíduos (SQR):  327.26\n",
            "Graus de liberdade (GL): 25\n",
            "Log-verossimilhança: -74.15\n",
            "AIC: 154.30\n",
            "Teste F:  4.95\n",
            "Significância do ajuste, p:  0.02\n",
            "Ajuste do modelo é significativo\n"
          ]
        },
        {
          "output_type": "display_data",
          "data": {
            "text/plain": [
              "<Figure size 640x480 with 1 Axes>"
            ],
            "image/png": "[encoded data removed]"
          },
          "metadata": {}
        },
        {
          "output_type": "display_data",
          "data": {
            "text/plain": [
              "<Figure size 500x500 with 0 Axes>"
            ]
          },
          "metadata": {}
        }
      ],
      "source": [
        "import pandas as pd\n",
        "import numpy as np\n",
        "import matplotlib.pyplot as plt\n",
        "import matplotlib\n",
        "import seaborn as sns\n",
        "from scipy.stats import f as f_dist\n",
        "import math\n",
        "\n",
        "matplotlib.rcParams['font.family'] = 'sans-serif'\n",
        "matplotlib.rcParams['font.sans-serif'] = ['DejaVu Sans']\n",
        "\n",
        "#substituir pelo file path do seu arquivo\n",
        "filepath = \"/content/drive/MyDrive/arquivos_dados_colab/ajuste_funcao/Dados.csv\"\n",
        "\n",
        "## Carregar arquivo CSV com dados_x and dados_y - dados_x na coluna A; dados_y na coluna B ##\n",
        "\n",
        "df = pd.read_csv(filepath)\n",
        "\n",
        "dados_x = df.iloc[:, 0].values  # Data from column A\n",
        "dados_y = df.iloc[:, 1].values  # Data from column B\n",
        "\n",
        "# DEFINIR O GRAU DO POLINOMIO (0, Y=A; 1, Y=BX+A; 2, Y=CX2+BX+A; ETC...)\n",
        "grau = 2\n",
        "\n",
        "# Fit the polynomial to the data\n",
        "Zz = np.polyfit(dados_x, dados_y, grau)\n",
        "p = np.poly1d(Zz)\n",
        "\n",
        "\n",
        "# Display the coefficients and the equation of the polynomial\n",
        "print(\"Coeficientes do modelo:\")\n",
        "print(Zz)\n",
        "\n",
        "print(\"Equação do polinômio:\")\n",
        "print()\n",
        "print(p)\n",
        "\n",
        "\n",
        "# Print the averages of dados_x and dados_y\n",
        "print(f\"Média dos valores de x: {np.mean(dados_x):.2f}\")\n",
        "print(f\"Média dos valores de y: {np.mean(dados_y):.2f}\")\n",
        "\n",
        "# Calculate the coefficient of determination R²\n",
        "y_pred = p(dados_x)\n",
        "SSR = np.sum((y_pred - dados_y)**2)  # Sum of the squares of the residuals\n",
        "SST = np.sum((dados_y - np.mean(dados_y))**2)  # Total sum of squares\n",
        "R2 = 1 - (SSR/SST)\n",
        "print(f\"Coeficiente de determinação, R²: {R2: .2f}\")\n",
        "\n",
        "# Print the sum of the squares of the residuals and the degrees of freedom of the model\n",
        "print(f\"Soma do quadrado dos resíduos (SQR): {SSR: .2f}\")\n",
        "\n",
        "# Calculate the degrees of freedom\n",
        "DF = len(dados_y) - (grau + 1)\n",
        "print(f\"Graus de liberdade (GL): {DF}\")\n",
        "\n",
        "# Calculate the log-likelihood\n",
        "n = len(dados_y)\n",
        "log_likelihood = -n/2 * math.log(2*math.pi) - n/2 * math.log(SSR/n) - n/2\n",
        "print(f\"Log-verossimilhança: {log_likelihood:.2f}\")\n",
        "\n",
        "# Calculate the AIC\n",
        "k = grau + 1  # Number of parameters\n",
        "AIC = 2*k - 2*log_likelihood\n",
        "print(f\"AIC: {AIC:.2f}\")\n",
        "\n",
        "# Perform the F test\n",
        "n = len(dados_y)  # Number of observations\n",
        "k = grau + 1  # Number of parameters\n",
        "F_stat = (R2 / (k - 1)) / ((1 - R2) / (n - k))\n",
        "p_value = 1 - f_dist.cdf(F_stat, k - 1, n - k)\n",
        "print(f\"Teste F: {F_stat: .2f}\")\n",
        "print(f\"Significância do ajuste, p: {p_value: .2f}\")\n",
        "\n",
        "# Check the significance of the fit\n",
        "if p_value < 0.05:\n",
        "    print(\"Ajuste do modelo é significativo\")\n",
        "\n",
        "# Plot the data and the fitted polynomial\n",
        "plt.scatter(dados_x, dados_y, color='black')\n",
        "sns.lineplot(x=dados_x, y=p(dados_x), color='k')\n",
        "# FORMATAR O TAMANHO DA FONTE DA LEGENDA DO EIXO e TITULO DO EIXO\n",
        "fontsize_axes = 14\n",
        "plt.xlabel('Dados x', fontsize=fontsize_axes)\n",
        "plt.ylabel('Dados y', fontsize=fontsize_axes)\n",
        "# FORMATAR TAMANHO DA FONTE DOS NUMEROS DOS EIXOS\n",
        "fontsize_ticks = 14\n",
        "plt.xticks(fontsize=fontsize_ticks)\n",
        "plt.yticks(fontsize=fontsize_ticks)\n",
        "# FORMATAR CENTRALIZACAO DOS DADOS DO GRAFICO\n",
        "plt.xlim(0, max(dados_x) + 4)\n",
        "plt.ylim(0, max(dados_y) + 4)\n",
        "# FORMATAR TAMANHO DO GRAFICO\n",
        "largura_grafico = 5 # Width of the graph\n",
        "altura_grafico = 5 # Height of the graph\n",
        "# Set the size of the graph\n",
        "plt.figure(figsize=(largura_grafico, altura_grafico))\n",
        "# Show the graph\n",
        "plt.show()"
      ]
    },
    {
      "cell_type": "markdown",
      "source": [
        "# Interpretação dos resultados acima. Como são modelos aninhados, o usuário pode querer comparar estatísticamente dois modelos diferentes. Nesse caso, o modelo com maior (ou menos negativo) log-verossimilhança e menor valor de AIC deve ser o escolhido."
      ],
      "metadata": {
        "id": "WF0cn_kaYFQb"
      }
    },
    {
      "cell_type": "markdown",
      "source": [
        "## No código abaixo o usuário pode escolher dois modelos e comparar usando a razão de verossimilhanças. Esse teste tem distribuição qui-quadrado, com 1 grau de liberdade (valor tabelado = 3,84)"
      ],
      "metadata": {
        "id": "Gb5nSGPPYJOm"
      }
    },
    {
      "cell_type": "code",
      "source": [
        "from scipy.stats import f as f_dist, chi2\n",
        "\n",
        "matplotlib.rcParams['font.family'] = 'sans-serif'\n",
        "matplotlib.rcParams['font.sans-serif'] = ['DejaVu Sans']\n",
        "\n",
        "def polynomial_regression(dados_x, dados_y, grau):\n",
        "    # Fit the polynomial to the data\n",
        "    Zz = np.polyfit(dados_x, dados_y, grau)\n",
        "    p = np.poly1d(Zz)\n",
        "\n",
        "    # Calculate R²\n",
        "    y_pred = p(dados_x)\n",
        "    SSR = np.sum((y_pred - dados_y)**2)\n",
        "    SST = np.sum((dados_y - np.mean(dados_y))**2)\n",
        "    R2 = 1 - (SSR/SST)\n",
        "\n",
        "    # Calculate log-likelihood\n",
        "    n = len(dados_y)\n",
        "    log_likelihood = -n/2 * math.log(2*math.pi) - n/2 * math.log(SSR/n) - n/2\n",
        "\n",
        "    # Number of parameters\n",
        "    num_params = grau + 1\n",
        "\n",
        "    return {\n",
        "        'coefficients': Zz,\n",
        "        'polynomial': p,\n",
        "        'R2': R2,\n",
        "        'log_likelihood': log_likelihood,\n",
        "        'num_params': num_params,\n",
        "        'SSR': SSR\n",
        "    }\n",
        "\n",
        "# Load data\n",
        "df = pd.read_csv('/content/drive/MyDrive/arquivos_dados_colab/ajuste_funcao/Dados.csv')\n",
        "dados_x = df.iloc[:, 0].values\n",
        "dados_y = df.iloc[:, 1].values\n",
        "\n",
        "# Get user input for two models\n",
        "grau1 = int(input(\"Enter the degree for the first model: \"))\n",
        "grau2 = int(input(\"Enter the degree for the second model: \"))\n",
        "\n",
        "# Ensure grau1 < grau2\n",
        "if grau1 > grau2:\n",
        "    grau1, grau2 = grau2, grau1\n",
        "\n",
        "# Perform regression for both models\n",
        "model1 = polynomial_regression(dados_x, dados_y, grau1)\n",
        "model2 = polynomial_regression(dados_x, dados_y, grau2)\n",
        "\n",
        "# Likelihood Ratio Test\n",
        "R = 2 * (model2['log_likelihood'] - model1['log_likelihood'])\n",
        "df_diff = model2['num_params'] - model1['num_params']\n",
        "p_value_lrt = 1 - chi2.cdf(R, df_diff)\n",
        "\n",
        "print(f\"\\nModel 1 (Degree {grau1}):\")\n",
        "print(f\"Log-likelihood: {model1['log_likelihood']:.2f}\")\n",
        "print(f\"Number of parameters: {model1['num_params']}\")\n",
        "print(f\"R²: {model1['R2']:.4f}\")\n",
        "\n",
        "print(f\"\\nModel 2 (Degree {grau2}):\")\n",
        "print(f\"Log-likelihood: {model2['log_likelihood']:.2f}\")\n",
        "print(f\"Number of parameters: {model2['num_params']}\")\n",
        "print(f\"R²: {model2['R2']:.4f}\")\n",
        "\n",
        "print(f\"\\nLikelihood Ratio Test:\")\n",
        "print(f\"Test statistic (R): {R:.4f}\")\n",
        "print(\"Qui-quadrado tabulado: 3.84\")\n",
        "print(f\"Degrees of freedom: {df_diff}\")\n",
        "print(f\"p-value: {p_value_lrt:.4f}\")\n",
        "\n",
        "if p_value_lrt < 0.05:\n",
        "    print(f\"O modelo com maior grau (mais parâmetros) é significativamente melhor, p = {p_value_lrt:.4f}\")\n",
        "else:\n",
        "    print(f\"O modelo com maior grau (mais parâmetros) NÃO é significativamente melhor, p = {p_value_lrt:.4f}\")\n",
        "\n",
        "# Plotting\n",
        "fontsize_axes = 14\n",
        "fontsize_ticks = 14\n",
        "largura_grafico = 5  # Width of the graph\n",
        "altura_grafico = 5  # Height of the graph\n",
        "\n",
        "plt.figure(figsize=(largura_grafico, altura_grafico))\n",
        "\n",
        "plt.scatter(dados_x, dados_y, color='black')\n",
        "sns.lineplot(x=dados_x, y=model1['polynomial'](dados_x), color='blue', label=f'Degree {grau1}')\n",
        "sns.lineplot(x=dados_x, y=model2['polynomial'](dados_x), color='red', label=f'Degree {grau2}')\n",
        "\n",
        "plt.xlabel('Dados x', fontsize=fontsize_axes)\n",
        "plt.ylabel('Dados y', fontsize=fontsize_axes)\n",
        "\n",
        "plt.xticks(fontsize=fontsize_ticks)\n",
        "plt.yticks(fontsize=fontsize_ticks)\n",
        "\n",
        "plt.xlim(0, max(dados_x) + 4)\n",
        "plt.ylim(0, max(dados_y) + 4)\n",
        "\n",
        "plt.legend(fontsize=fontsize_ticks)\n",
        "\n",
        "plt.show()"
      ],
      "metadata": {
        "colab": {
          "base_uri": "https://localhost:8080/",
          "height": 798
        },
        "id": "ROTMchEcYGF0",
        "outputId": "8b949f30-ae83-483a-d024-126c47462d36"
      },
      "execution_count": 16,
      "outputs": [
        {
          "output_type": "stream",
          "name": "stdout",
          "text": [
            "Enter the degree for the first model: 0\n",
            "Enter the degree for the second model: 1\n",
            "\n",
            "Model 1 (Degree 0):\n",
            "Log-likelihood: -78.82\n",
            "Number of parameters: 1\n",
            "R²: 0.0000\n",
            "\n",
            "Model 2 (Degree 1):\n",
            "Log-likelihood: -75.60\n",
            "Number of parameters: 2\n",
            "R²: 0.2055\n",
            "\n",
            "Likelihood Ratio Test:\n",
            "Test statistic (R): 6.4419\n",
            "Qui-quadrado tabulado: 3.84\n",
            "Degrees of freedom: 1\n",
            "p-value: 0.0111\n",
            "O modelo com maior grau (mais parâmetros) é significativamente melhor, p = 0.0111\n"
          ]
        },
        {
          "output_type": "display_data",
          "data": {
            "text/plain": [
              "<Figure size 500x500 with 1 Axes>"
            ],
            "image/png": "[encoded data removed]"
          },
          "metadata": {}
        }
      ]
    }
  ]
}